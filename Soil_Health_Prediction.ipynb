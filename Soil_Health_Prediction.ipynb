{
 "cells": [
  {
   "cell_type": "code",
   "execution_count": 2,
   "metadata": {},
   "outputs": [],
   "source": [
    "import pandas as pd\n",
    "import numpy as np\n",
    "from matplotlib import pyplot as plt\n",
    "import seaborn as sns\n",
    "from sklearn.model_selection import train_test_split\n",
    "from sklearn.feature_selection import SelectKBest\n",
    "from sklearn.feature_selection import chi2\n",
    "from sklearn.metrics import confusion_matrix, accuracy_score\n",
    "from sklearn.preprocessing import StandardScaler\n",
    "from sklearn.ensemble import RandomForestClassifier\n",
    "from sklearn.svm import SVC\n",
    "from sklearn.neighbors import KNeighborsClassifier\n",
    "from sklearn.model_selection import GridSearchCV\n",
    "from sklearn.tree import DecisionTreeClassifier\n",
    "from sklearn.linear_model import LogisticRegression\n",
    "from sklearn.naive_bayes import GaussianNB\n",
    "from xgboost import XGBClassifier\n",
    "from sklearn import metrics"
   ]
  },
  {
   "cell_type": "code",
   "execution_count": 3,
   "metadata": {},
   "outputs": [
    {
     "data": {
      "text/html": [
       "<div>\n",
       "<style scoped>\n",
       "    .dataframe tbody tr th:only-of-type {\n",
       "        vertical-align: middle;\n",
       "    }\n",
       "\n",
       "    .dataframe tbody tr th {\n",
       "        vertical-align: top;\n",
       "    }\n",
       "\n",
       "    .dataframe thead th {\n",
       "        text-align: right;\n",
       "    }\n",
       "</style>\n",
       "<table border=\"1\" class=\"dataframe\">\n",
       "  <thead>\n",
       "    <tr style=\"text-align: right;\">\n",
       "      <th></th>\n",
       "      <th>pH</th>\n",
       "      <th>EC</th>\n",
       "      <th>OC</th>\n",
       "      <th>OM</th>\n",
       "      <th>N</th>\n",
       "      <th>P</th>\n",
       "      <th>K</th>\n",
       "      <th>Zn</th>\n",
       "      <th>Fe</th>\n",
       "      <th>Cu</th>\n",
       "      <th>Mn</th>\n",
       "      <th>Sand</th>\n",
       "      <th>Silt</th>\n",
       "      <th>Clay</th>\n",
       "      <th>CaCO3</th>\n",
       "      <th>CEC</th>\n",
       "      <th>Output</th>\n",
       "    </tr>\n",
       "  </thead>\n",
       "  <tbody>\n",
       "    <tr>\n",
       "      <th>0</th>\n",
       "      <td>7.74</td>\n",
       "      <td>0.40</td>\n",
       "      <td>0.01</td>\n",
       "      <td>0.01</td>\n",
       "      <td>75</td>\n",
       "      <td>20.0</td>\n",
       "      <td>279</td>\n",
       "      <td>0.48</td>\n",
       "      <td>6.4</td>\n",
       "      <td>0.21</td>\n",
       "      <td>4.7</td>\n",
       "      <td>84.3</td>\n",
       "      <td>6.8</td>\n",
       "      <td>8.9</td>\n",
       "      <td>6.72</td>\n",
       "      <td>7.81</td>\n",
       "      <td>Fertile</td>\n",
       "    </tr>\n",
       "    <tr>\n",
       "      <th>1</th>\n",
       "      <td>9.02</td>\n",
       "      <td>0.31</td>\n",
       "      <td>0.02</td>\n",
       "      <td>0.03</td>\n",
       "      <td>85</td>\n",
       "      <td>15.7</td>\n",
       "      <td>247</td>\n",
       "      <td>0.27</td>\n",
       "      <td>6.4</td>\n",
       "      <td>0.16</td>\n",
       "      <td>5.6</td>\n",
       "      <td>90.4</td>\n",
       "      <td>3.9</td>\n",
       "      <td>5.7</td>\n",
       "      <td>4.61</td>\n",
       "      <td>7.19</td>\n",
       "      <td>Fertile</td>\n",
       "    </tr>\n",
       "    <tr>\n",
       "      <th>2</th>\n",
       "      <td>7.80</td>\n",
       "      <td>0.17</td>\n",
       "      <td>0.02</td>\n",
       "      <td>0.03</td>\n",
       "      <td>77</td>\n",
       "      <td>35.6</td>\n",
       "      <td>265</td>\n",
       "      <td>0.46</td>\n",
       "      <td>6.2</td>\n",
       "      <td>0.51</td>\n",
       "      <td>6.1</td>\n",
       "      <td>84.5</td>\n",
       "      <td>6.9</td>\n",
       "      <td>8.6</td>\n",
       "      <td>1.53</td>\n",
       "      <td>12.32</td>\n",
       "      <td>Fertile</td>\n",
       "    </tr>\n",
       "    <tr>\n",
       "      <th>3</th>\n",
       "      <td>8.36</td>\n",
       "      <td>0.02</td>\n",
       "      <td>0.03</td>\n",
       "      <td>0.05</td>\n",
       "      <td>106</td>\n",
       "      <td>6.4</td>\n",
       "      <td>127</td>\n",
       "      <td>0.50</td>\n",
       "      <td>3.1</td>\n",
       "      <td>0.28</td>\n",
       "      <td>2.3</td>\n",
       "      <td>93.9</td>\n",
       "      <td>1.7</td>\n",
       "      <td>4.4</td>\n",
       "      <td>0.00</td>\n",
       "      <td>1.60</td>\n",
       "      <td>Non Fertile</td>\n",
       "    </tr>\n",
       "    <tr>\n",
       "      <th>4</th>\n",
       "      <td>8.36</td>\n",
       "      <td>1.08</td>\n",
       "      <td>0.03</td>\n",
       "      <td>0.05</td>\n",
       "      <td>96</td>\n",
       "      <td>10.5</td>\n",
       "      <td>96</td>\n",
       "      <td>0.31</td>\n",
       "      <td>3.2</td>\n",
       "      <td>0.23</td>\n",
       "      <td>4.1</td>\n",
       "      <td>91.5</td>\n",
       "      <td>4.1</td>\n",
       "      <td>4.4</td>\n",
       "      <td>9.08</td>\n",
       "      <td>7.21</td>\n",
       "      <td>Non Fertile</td>\n",
       "    </tr>\n",
       "    <tr>\n",
       "      <th>...</th>\n",
       "      <td>...</td>\n",
       "      <td>...</td>\n",
       "      <td>...</td>\n",
       "      <td>...</td>\n",
       "      <td>...</td>\n",
       "      <td>...</td>\n",
       "      <td>...</td>\n",
       "      <td>...</td>\n",
       "      <td>...</td>\n",
       "      <td>...</td>\n",
       "      <td>...</td>\n",
       "      <td>...</td>\n",
       "      <td>...</td>\n",
       "      <td>...</td>\n",
       "      <td>...</td>\n",
       "      <td>...</td>\n",
       "      <td>...</td>\n",
       "    </tr>\n",
       "    <tr>\n",
       "      <th>95</th>\n",
       "      <td>9.21</td>\n",
       "      <td>0.14</td>\n",
       "      <td>0.62</td>\n",
       "      <td>1.06</td>\n",
       "      <td>278</td>\n",
       "      <td>9.8</td>\n",
       "      <td>165</td>\n",
       "      <td>0.18</td>\n",
       "      <td>8.6</td>\n",
       "      <td>0.57</td>\n",
       "      <td>5.8</td>\n",
       "      <td>88.2</td>\n",
       "      <td>2.4</td>\n",
       "      <td>9.4</td>\n",
       "      <td>4.23</td>\n",
       "      <td>8.81</td>\n",
       "      <td>Fertile</td>\n",
       "    </tr>\n",
       "    <tr>\n",
       "      <th>96</th>\n",
       "      <td>7.50</td>\n",
       "      <td>0.22</td>\n",
       "      <td>0.68</td>\n",
       "      <td>1.17</td>\n",
       "      <td>272</td>\n",
       "      <td>9.5</td>\n",
       "      <td>139</td>\n",
       "      <td>0.72</td>\n",
       "      <td>2.6</td>\n",
       "      <td>0.12</td>\n",
       "      <td>1.8</td>\n",
       "      <td>95.4</td>\n",
       "      <td>1.4</td>\n",
       "      <td>3.2</td>\n",
       "      <td>0.00</td>\n",
       "      <td>5.58</td>\n",
       "      <td>Non Fertile</td>\n",
       "    </tr>\n",
       "    <tr>\n",
       "      <th>97</th>\n",
       "      <td>8.26</td>\n",
       "      <td>0.25</td>\n",
       "      <td>0.71</td>\n",
       "      <td>1.22</td>\n",
       "      <td>277</td>\n",
       "      <td>11.5</td>\n",
       "      <td>264</td>\n",
       "      <td>0.36</td>\n",
       "      <td>7.6</td>\n",
       "      <td>0.07</td>\n",
       "      <td>0.8</td>\n",
       "      <td>90.7</td>\n",
       "      <td>2.5</td>\n",
       "      <td>6.8</td>\n",
       "      <td>3.85</td>\n",
       "      <td>7.26</td>\n",
       "      <td>Fertile</td>\n",
       "    </tr>\n",
       "    <tr>\n",
       "      <th>98</th>\n",
       "      <td>8.12</td>\n",
       "      <td>0.14</td>\n",
       "      <td>0.73</td>\n",
       "      <td>1.25</td>\n",
       "      <td>265</td>\n",
       "      <td>4.6</td>\n",
       "      <td>283</td>\n",
       "      <td>0.38</td>\n",
       "      <td>3.7</td>\n",
       "      <td>0.18</td>\n",
       "      <td>0.8</td>\n",
       "      <td>86.0</td>\n",
       "      <td>6.7</td>\n",
       "      <td>7.3</td>\n",
       "      <td>0.00</td>\n",
       "      <td>3.10</td>\n",
       "      <td>Non Fertile</td>\n",
       "    </tr>\n",
       "    <tr>\n",
       "      <th>99</th>\n",
       "      <td>7.31</td>\n",
       "      <td>0.46</td>\n",
       "      <td>0.74</td>\n",
       "      <td>1.27</td>\n",
       "      <td>277</td>\n",
       "      <td>32.4</td>\n",
       "      <td>241</td>\n",
       "      <td>0.27</td>\n",
       "      <td>8.2</td>\n",
       "      <td>0.23</td>\n",
       "      <td>4.2</td>\n",
       "      <td>80.5</td>\n",
       "      <td>6.8</td>\n",
       "      <td>12.7</td>\n",
       "      <td>4.86</td>\n",
       "      <td>6.51</td>\n",
       "      <td>Fertile</td>\n",
       "    </tr>\n",
       "  </tbody>\n",
       "</table>\n",
       "<p>100 rows × 17 columns</p>\n",
       "</div>"
      ],
      "text/plain": [
       "      pH    EC    OC    OM    N     P    K    Zn   Fe    Cu   Mn  Sand  Silt  \\\n",
       "0   7.74  0.40  0.01  0.01   75  20.0  279  0.48  6.4  0.21  4.7  84.3   6.8   \n",
       "1   9.02  0.31  0.02  0.03   85  15.7  247  0.27  6.4  0.16  5.6  90.4   3.9   \n",
       "2   7.80  0.17  0.02  0.03   77  35.6  265  0.46  6.2  0.51  6.1  84.5   6.9   \n",
       "3   8.36  0.02  0.03  0.05  106   6.4  127  0.50  3.1  0.28  2.3  93.9   1.7   \n",
       "4   8.36  1.08  0.03  0.05   96  10.5   96  0.31  3.2  0.23  4.1  91.5   4.1   \n",
       "..   ...   ...   ...   ...  ...   ...  ...   ...  ...   ...  ...   ...   ...   \n",
       "95  9.21  0.14  0.62  1.06  278   9.8  165  0.18  8.6  0.57  5.8  88.2   2.4   \n",
       "96  7.50  0.22  0.68  1.17  272   9.5  139  0.72  2.6  0.12  1.8  95.4   1.4   \n",
       "97  8.26  0.25  0.71  1.22  277  11.5  264  0.36  7.6  0.07  0.8  90.7   2.5   \n",
       "98  8.12  0.14  0.73  1.25  265   4.6  283  0.38  3.7  0.18  0.8  86.0   6.7   \n",
       "99  7.31  0.46  0.74  1.27  277  32.4  241  0.27  8.2  0.23  4.2  80.5   6.8   \n",
       "\n",
       "    Clay  CaCO3    CEC       Output  \n",
       "0    8.9   6.72   7.81      Fertile  \n",
       "1    5.7   4.61   7.19      Fertile  \n",
       "2    8.6   1.53  12.32      Fertile  \n",
       "3    4.4   0.00   1.60  Non Fertile  \n",
       "4    4.4   9.08   7.21  Non Fertile  \n",
       "..   ...    ...    ...          ...  \n",
       "95   9.4   4.23   8.81      Fertile  \n",
       "96   3.2   0.00   5.58  Non Fertile  \n",
       "97   6.8   3.85   7.26      Fertile  \n",
       "98   7.3   0.00   3.10  Non Fertile  \n",
       "99  12.7   4.86   6.51      Fertile  \n",
       "\n",
       "[100 rows x 17 columns]"
      ]
     },
     "execution_count": 3,
     "metadata": {},
     "output_type": "execute_result"
    }
   ],
   "source": [
    "data = pd.read_csv(\"data.csv\")\n",
    "data"
   ]
  },
  {
   "cell_type": "markdown",
   "metadata": {},
   "source": [
    "# Data Pre-Processing"
   ]
  },
  {
   "cell_type": "code",
   "execution_count": 4,
   "metadata": {},
   "outputs": [
    {
     "data": {
      "text/html": [
       "<div>\n",
       "<style scoped>\n",
       "    .dataframe tbody tr th:only-of-type {\n",
       "        vertical-align: middle;\n",
       "    }\n",
       "\n",
       "    .dataframe tbody tr th {\n",
       "        vertical-align: top;\n",
       "    }\n",
       "\n",
       "    .dataframe thead th {\n",
       "        text-align: right;\n",
       "    }\n",
       "</style>\n",
       "<table border=\"1\" class=\"dataframe\">\n",
       "  <thead>\n",
       "    <tr style=\"text-align: right;\">\n",
       "      <th></th>\n",
       "      <th>pH</th>\n",
       "      <th>OC</th>\n",
       "      <th>N</th>\n",
       "      <th>Sand</th>\n",
       "      <th>Silt</th>\n",
       "      <th>Clay</th>\n",
       "      <th>CEC</th>\n",
       "      <th>Output</th>\n",
       "    </tr>\n",
       "  </thead>\n",
       "  <tbody>\n",
       "    <tr>\n",
       "      <th>0</th>\n",
       "      <td>7.74</td>\n",
       "      <td>0.01</td>\n",
       "      <td>75</td>\n",
       "      <td>84.3</td>\n",
       "      <td>6.8</td>\n",
       "      <td>8.9</td>\n",
       "      <td>7.81</td>\n",
       "      <td>Fertile</td>\n",
       "    </tr>\n",
       "    <tr>\n",
       "      <th>1</th>\n",
       "      <td>9.02</td>\n",
       "      <td>0.02</td>\n",
       "      <td>85</td>\n",
       "      <td>90.4</td>\n",
       "      <td>3.9</td>\n",
       "      <td>5.7</td>\n",
       "      <td>7.19</td>\n",
       "      <td>Fertile</td>\n",
       "    </tr>\n",
       "    <tr>\n",
       "      <th>2</th>\n",
       "      <td>7.80</td>\n",
       "      <td>0.02</td>\n",
       "      <td>77</td>\n",
       "      <td>84.5</td>\n",
       "      <td>6.9</td>\n",
       "      <td>8.6</td>\n",
       "      <td>12.32</td>\n",
       "      <td>Fertile</td>\n",
       "    </tr>\n",
       "    <tr>\n",
       "      <th>3</th>\n",
       "      <td>8.36</td>\n",
       "      <td>0.03</td>\n",
       "      <td>106</td>\n",
       "      <td>93.9</td>\n",
       "      <td>1.7</td>\n",
       "      <td>4.4</td>\n",
       "      <td>1.60</td>\n",
       "      <td>Non Fertile</td>\n",
       "    </tr>\n",
       "    <tr>\n",
       "      <th>4</th>\n",
       "      <td>8.36</td>\n",
       "      <td>0.03</td>\n",
       "      <td>96</td>\n",
       "      <td>91.5</td>\n",
       "      <td>4.1</td>\n",
       "      <td>4.4</td>\n",
       "      <td>7.21</td>\n",
       "      <td>Non Fertile</td>\n",
       "    </tr>\n",
       "    <tr>\n",
       "      <th>...</th>\n",
       "      <td>...</td>\n",
       "      <td>...</td>\n",
       "      <td>...</td>\n",
       "      <td>...</td>\n",
       "      <td>...</td>\n",
       "      <td>...</td>\n",
       "      <td>...</td>\n",
       "      <td>...</td>\n",
       "    </tr>\n",
       "    <tr>\n",
       "      <th>95</th>\n",
       "      <td>9.21</td>\n",
       "      <td>0.62</td>\n",
       "      <td>278</td>\n",
       "      <td>88.2</td>\n",
       "      <td>2.4</td>\n",
       "      <td>9.4</td>\n",
       "      <td>8.81</td>\n",
       "      <td>Fertile</td>\n",
       "    </tr>\n",
       "    <tr>\n",
       "      <th>96</th>\n",
       "      <td>7.50</td>\n",
       "      <td>0.68</td>\n",
       "      <td>272</td>\n",
       "      <td>95.4</td>\n",
       "      <td>1.4</td>\n",
       "      <td>3.2</td>\n",
       "      <td>5.58</td>\n",
       "      <td>Non Fertile</td>\n",
       "    </tr>\n",
       "    <tr>\n",
       "      <th>97</th>\n",
       "      <td>8.26</td>\n",
       "      <td>0.71</td>\n",
       "      <td>277</td>\n",
       "      <td>90.7</td>\n",
       "      <td>2.5</td>\n",
       "      <td>6.8</td>\n",
       "      <td>7.26</td>\n",
       "      <td>Fertile</td>\n",
       "    </tr>\n",
       "    <tr>\n",
       "      <th>98</th>\n",
       "      <td>8.12</td>\n",
       "      <td>0.73</td>\n",
       "      <td>265</td>\n",
       "      <td>86.0</td>\n",
       "      <td>6.7</td>\n",
       "      <td>7.3</td>\n",
       "      <td>3.10</td>\n",
       "      <td>Non Fertile</td>\n",
       "    </tr>\n",
       "    <tr>\n",
       "      <th>99</th>\n",
       "      <td>7.31</td>\n",
       "      <td>0.74</td>\n",
       "      <td>277</td>\n",
       "      <td>80.5</td>\n",
       "      <td>6.8</td>\n",
       "      <td>12.7</td>\n",
       "      <td>6.51</td>\n",
       "      <td>Fertile</td>\n",
       "    </tr>\n",
       "  </tbody>\n",
       "</table>\n",
       "<p>100 rows × 8 columns</p>\n",
       "</div>"
      ],
      "text/plain": [
       "      pH    OC    N  Sand  Silt  Clay    CEC       Output\n",
       "0   7.74  0.01   75  84.3   6.8   8.9   7.81      Fertile\n",
       "1   9.02  0.02   85  90.4   3.9   5.7   7.19      Fertile\n",
       "2   7.80  0.02   77  84.5   6.9   8.6  12.32      Fertile\n",
       "3   8.36  0.03  106  93.9   1.7   4.4   1.60  Non Fertile\n",
       "4   8.36  0.03   96  91.5   4.1   4.4   7.21  Non Fertile\n",
       "..   ...   ...  ...   ...   ...   ...    ...          ...\n",
       "95  9.21  0.62  278  88.2   2.4   9.4   8.81      Fertile\n",
       "96  7.50  0.68  272  95.4   1.4   3.2   5.58  Non Fertile\n",
       "97  8.26  0.71  277  90.7   2.5   6.8   7.26      Fertile\n",
       "98  8.12  0.73  265  86.0   6.7   7.3   3.10  Non Fertile\n",
       "99  7.31  0.74  277  80.5   6.8  12.7   6.51      Fertile\n",
       "\n",
       "[100 rows x 8 columns]"
      ]
     },
     "execution_count": 4,
     "metadata": {},
     "output_type": "execute_result"
    }
   ],
   "source": [
    "data.drop(['EC','P', 'K', 'Zn', 'Fe', 'Cu', 'Mn', 'CaCO3','OM'], inplace = True, axis = 1)\n",
    "data"
   ]
  },
  {
   "cell_type": "markdown",
   "metadata": {},
   "source": [
    "### 0 -> Fertile\n",
    "### 1 -> Not Fertile"
   ]
  },
  {
   "cell_type": "code",
   "execution_count": 5,
   "metadata": {},
   "outputs": [
    {
     "data": {
      "text/plain": [
       "0     0\n",
       "1     0\n",
       "2     0\n",
       "3     1\n",
       "4     1\n",
       "     ..\n",
       "95    0\n",
       "96    1\n",
       "97    0\n",
       "98    1\n",
       "99    0\n",
       "Name: Output, Length: 100, dtype: int64"
      ]
     },
     "execution_count": 5,
     "metadata": {},
     "output_type": "execute_result"
    }
   ],
   "source": [
    "def encode(res):\n",
    "    if res == \"Non Fertile\":\n",
    "        return 1\n",
    "    else:\n",
    "        return 0\n",
    "\n",
    "data.Output = data.Output.map(encode)\n",
    "data.Output"
   ]
  },
  {
   "cell_type": "code",
   "execution_count": 6,
   "metadata": {},
   "outputs": [
    {
     "data": {
      "text/plain": [
       "<AxesSubplot:>"
      ]
     },
     "execution_count": 6,
     "metadata": {},
     "output_type": "execute_result"
    },
    {
     "data": {
      "image/png": "[encoded data removed]",
      "text/plain": [
       "<Figure size 640x480 with 1 Axes>"
      ]
     },
     "metadata": {},
     "output_type": "display_data"
    }
   ],
   "source": [
    "data['Output'].value_counts().plot(kind = \"bar\")"
   ]
  },
  {
   "cell_type": "code",
   "execution_count": 7,
   "metadata": {},
   "outputs": [],
   "source": [
    "x = data.iloc[:, :-1]\n",
    "y = data.iloc[:, -1]\n",
    "\n",
    "x_train, x_test, y_train, y_test = train_test_split(x, y, test_size=0.40, random_state=0)"
   ]
  },
  {
   "cell_type": "code",
   "execution_count": 8,
   "metadata": {},
   "outputs": [
    {
     "data": {
      "image/png": "[encoded data removed]",
      "text/plain": [
       "<Figure size 1000x500 with 2 Axes>"
      ]
     },
     "metadata": {},
     "output_type": "display_data"
    }
   ],
   "source": [
    "corrmat = data.corr()\n",
    "top_corr_features = corrmat.index\n",
    "plt.figure(figsize=(10, 5))\n",
    "#plot heat map\n",
    "g=sns.heatmap(data[top_corr_features].corr(),annot=True,cmap=\"RdYlGn\")"
   ]
  },
  {
   "cell_type": "code",
   "execution_count": 9,
   "metadata": {},
   "outputs": [
    {
     "name": "stdout",
     "output_type": "stream",
     "text": [
      "  Specs      Score\n",
      "5  Clay  59.067537\n",
      "6   CEC  52.304725\n",
      "4  Silt  35.694148\n",
      "2     N  30.341283\n",
      "3  Sand  13.702893\n",
      "1    OC   0.787213\n",
      "0    pH   0.047442\n"
     ]
    }
   ],
   "source": [
    "# from sklearn.feature_selection import f_classif\n",
    "bestfeatures = SelectKBest(score_func=chi2, k=7)\n",
    "fit = bestfeatures.fit(x,y)\n",
    "dfscores = pd.DataFrame(fit.scores_)\n",
    "dfcolumns = pd.DataFrame(x.columns)\n",
    "featureScores = pd.concat([dfcolumns,dfscores],axis=1)\n",
    "featureScores.columns = ['Specs','Score']  #naming the dataframe columns\n",
    "print(featureScores.nlargest(10,'Score'))  #print 10 best features"
   ]
  },
  {
   "cell_type": "code",
   "execution_count": 31,
   "metadata": {},
   "outputs": [
    {
     "name": "stdout",
     "output_type": "stream",
     "text": [
      "(60, 7)\n",
      "(60,)\n"
     ]
    }
   ],
   "source": [
    "print(x_train.shape)\n",
    "print(y_train.shape)"
   ]
  },
  {
   "cell_type": "code",
   "execution_count": 32,
   "metadata": {},
   "outputs": [
    {
     "name": "stdout",
     "output_type": "stream",
     "text": [
      "(40, 7)\n",
      "(40,)\n"
     ]
    }
   ],
   "source": [
    "print(x_test.shape)\n",
    "print(y_test.shape)"
   ]
  },
  {
   "cell_type": "markdown",
   "metadata": {},
   "source": [
    "# Feature Scaling"
   ]
  },
  {
   "cell_type": "code",
   "execution_count": 10,
   "metadata": {},
   "outputs": [
    {
     "name": "stdout",
     "output_type": "stream",
     "text": [
      "[[ 1.32433159e+00 -9.94768891e-01 -1.42661730e+00  5.22862438e-01\n",
      "  -5.17066459e-01 -3.60267137e-01  8.50377732e-01]\n",
      " [ 8.92697587e-01 -6.48972889e-02  4.84030869e-01  5.41208488e-01\n",
      "  -7.89445629e-01 -1.95591616e-02  2.74417284e-01]\n",
      " [ 1.81482477e+00 -4.71716115e-01 -5.12829045e-01 -9.44821598e-01\n",
      "   4.90736472e-01  1.26755986e+00 -5.39359090e-01]\n",
      " [-1.81482477e+00 -4.71716115e-01 -2.96842730e-01  1.03655185e+00\n",
      "  -5.71542293e-01 -1.34453462e+00  1.85236312e-01]\n",
      " [ 2.94295908e-02 -9.36651915e-01 -1.24385965e+00  7.24668993e-01\n",
      "  -4.62590625e-01 -8.52400879e-01  8.57809480e-01]\n",
      " [ 4.90493180e-02 -7.62300990e-01 -8.45115683e-01 -1.19249328e-01\n",
      "   3.54546887e-01 -2.46697812e-01  2.59553789e-01]\n",
      " [ 6.37641134e-01 -7.04184015e-01 -6.12515036e-01  1.92633530e-01\n",
      "  -4.35352708e-01  2.07579489e-01 -7.73459143e-01]\n",
      " [ 1.07908500e-01 -4.71716115e-01 -2.63614066e-01  1.45851101e+00\n",
      "  -1.08906272e+00 -1.49596039e+00 -4.61325739e-01]\n",
      " [-6.18021407e-01 -4.71716115e-01 -3.79914389e-01 -4.31132186e-01\n",
      "   4.63498555e-01  2.45435930e-01 -1.30111323e+00]\n",
      " [ 2.94295908e-02 -9.36651915e-01 -3.30071394e-01  1.22001235e+00\n",
      "  -1.17077647e+00 -8.90257321e-01 -5.80233703e-01]\n",
      " [-1.07908500e-01  1.50426104e+00  1.44766212e+00 -3.39401933e-01\n",
      "  -1.62973537e-01  9.26851881e-01  4.22439119e+00]\n",
      " [ 1.69710640e+00 -1.23014264e-01 -2.13771070e-01 -1.16497420e+00\n",
      "   1.47130149e+00  3.59005256e-01  5.93982436e-01]\n",
      " [-1.18699350e+00 -1.05288587e+00 -1.59276062e+00 -5.96246640e-01\n",
      "   2.72833136e-01  8.51138998e-01  1.08076191e+00]\n",
      " [-4.90493180e-02 -5.29833090e-01 -4.29757385e-01  5.77900589e-01\n",
      "  -5.98780210e-01 -3.60267137e-01 -1.11531954e+00]\n",
      " [-6.86690452e-02 -6.46067040e-01 -7.78658355e-01  1.55024126e+00\n",
      "  -1.17077647e+00 -1.57167327e+00 -1.11531954e+00]\n",
      " [-1.07908500e-01 -2.97365189e-01  1.18515568e-01 -4.31132186e-01\n",
      "   1.00825690e+00 -5.11692904e-01 -1.36799896e+00]\n",
      " [-8.73077860e-01 -8.78534940e-01 -1.50968896e+00 -1.25670446e+00\n",
      "  -5.40218688e-02  2.66824820e+00  7.53765012e-01]\n",
      " [-1.67748668e+00 -5.29833090e-01 -8.45115683e-01 -3.39401933e-01\n",
      "   1.09405634e-01  5.48287464e-01  2.03574149e+00]\n",
      " [-1.06927513e+00 -7.04184015e-01 -1.09433066e+00  1.55941429e-01\n",
      "  -5.71542293e-01  4.72574581e-01 -4.31598748e-01]\n",
      " [ 1.32433159e+00 -2.39248214e-01 -1.14085079e-01 -1.33008866e+00\n",
      "   1.03549481e+00  1.30541630e+00  9.50706326e-01]\n",
      " [-1.66767681e-01 -8.78534940e-01 -9.44801674e-01  6.69630841e-01\n",
      "  -4.89828542e-01 -7.00975112e-01 -7.80890891e-01]\n",
      " [ 4.41443862e-01 -6.46067040e-01 -1.26047398e+00  1.74287479e-01\n",
      "  -5.98780210e-01  4.72574581e-01 -1.56624083e-01]\n",
      " [ 1.73634586e+00  5.13366613e-02  7.33245848e-01 -1.55941429e-01\n",
      "  -1.90211454e-01  5.86143906e-01  2.85564906e-01]\n",
      " [-7.94598951e-01 -1.81131239e-01  1.18515568e-01  3.94440085e-01\n",
      "  -3.53638957e-01 -3.22410695e-01 -8.92367107e-01]\n",
      " [ 5.78781952e-01  6.32506412e-01  1.18183281e+00  6.69630841e-01\n",
      "  -5.71542293e-01 -5.87405787e-01 -9.74116332e-01]\n",
      " [ 3.82584680e-01  1.27179314e+00  1.59719111e+00 -1.84377807e+00\n",
      "   2.77872151e+00 -5.74156033e-02  9.99012686e-01]\n",
      " [-1.10851459e+00 -6.46067040e-01 -8.78344347e-01 -5.96246640e-01\n",
      "   3.81784804e-01  6.99713231e-01  1.22066456e-01]\n",
      " [ 2.22683904e+00  1.09744221e+00  1.64703410e+00 -1.86212412e+00\n",
      "   2.64253192e+00  1.69723047e-01 -1.91367504e-02]\n",
      " [ 6.86690452e-02 -7.62300990e-01 -7.62044023e-01  2.29325631e-01\n",
      "  -2.44687288e-01 -1.33128487e-01 -9.29525845e-01]\n",
      " [ 8.14218679e-01  1.50426104e+00  1.74672009e+00 -1.88047017e+00\n",
      "   3.32347985e+00 -7.38831554e-01  1.53409852e+00]\n",
      " [-1.59900777e+00 -7.04184015e-01 -5.79286372e-01  1.27505051e+00\n",
      "  -9.52873132e-01 -1.30667818e+00  3.15849278e-03]\n",
      " [ 2.06007136e-01 -6.46067040e-01 -5.95900704e-01  7.79707144e-01\n",
      "  -7.34969795e-01 -5.87405787e-01 -1.18963702e+00]\n",
      " [ 7.35739770e-01 -2.97365189e-01  3.54439081e-02  1.12828210e+00\n",
      "  -4.08114791e-01 -1.76095548e+00 -5.09632099e-01]\n",
      " [-1.66767681e-01  3.01530239e+00  1.76333443e+00  5.77900589e-01\n",
      "  -8.98397298e-01  5.61537219e-02  8.76388849e-01]\n",
      " [-4.41443862e-01  3.13153634e+00  1.56396244e+00 -2.84363782e-01\n",
      "   2.45595219e-01  2.45435930e-01 -6.69414675e-01]\n",
      " [-1.44204995e+00  1.09453636e-01  7.83088844e-01  5.22862438e-01\n",
      "  -4.08114791e-01 -5.11692904e-01 -1.29368148e+00]\n",
      " [ 4.90493180e-02 -7.04184015e-01 -5.62672040e-01  4.12786135e-01\n",
      "  -4.62590625e-01 -2.08841370e-01 -1.36428309e+00]\n",
      " [-4.61063589e-01  1.96919684e+00  5.00645201e-01 -1.42181891e+00\n",
      "   1.11720856e+00  1.38112918e+00  5.08517337e-01]\n",
      " [-4.61063589e-01  2.25687587e-01  7.66474512e-01 -3.76094034e-01\n",
      "   3.81784804e-01  2.45435930e-01 -6.17392441e-01]\n",
      " [ 2.45246590e-01  4.58155487e-01  8.99389167e-01 -9.99859750e-01\n",
      "   5.72450224e-01  1.26755986e+00  7.00442222e-02]\n",
      " [ 2.45246590e-01 -6.46067040e-01 -4.79600381e-01 -9.17302522e-03\n",
      "   2.45595219e-01 -3.22410695e-01 -1.16734177e+00]\n",
      " [-2.84486044e-01 -5.29833090e-01 -3.63300058e-01 -7.06322942e-01\n",
      "   4.09022721e-01  8.88995440e-01  4.19336365e-01]\n",
      " [-2.84486044e-01  6.90623387e-01  1.56396244e+00 -2.47671681e-01\n",
      "  -3.53638957e-01  1.00256476e+00 -1.64055831e-01]\n",
      " [ 1.91292340e+00 -3.55482164e-01  1.51744231e-01 -1.34843471e+00\n",
      "   1.19892232e+00  1.11613409e+00 -3.79576514e-01]\n",
      " [-2.25626863e-01 -4.71716115e-01 -3.30071394e-01  1.51354916e+00\n",
      "  -1.06182480e+00 -1.64738616e+00 -1.14133066e+00]\n",
      " [-5.19922771e-01  5.13366613e-02  1.51744231e-01  1.25670446e+00\n",
      "  -1.19801439e+00 -9.28113763e-01 -1.18963702e+00]\n",
      " [ 3.43345226e-01 -1.23014264e-01  1.84972895e-01  1.58693336e+00\n",
      "  -1.27972814e+00 -1.49596039e+00  9.13547588e-01]\n",
      " [-4.41443862e-01 -8.78534940e-01 -1.54291762e+00  3.57747984e-01\n",
      "  -6.26018127e-01  1.31866605e-01 -4.27325494e-03]\n",
      " [ 6.96500315e-01  1.50426104e+00  1.74672009e+00 -1.47685706e+00\n",
      "   9.26543145e-01  1.75969360e+00  7.09174526e-01]\n",
      " [ 1.65786695e+00  1.09453636e-01  4.50802206e-01  4.49478236e-01\n",
      "  -9.25635215e-01  3.59005256e-01 -5.62954889e-02]\n",
      " [ 1.67748668e+00  1.32991011e+00  1.74672009e+00 -1.56858731e+00\n",
      "   9.26543145e-01  1.94897581e+00 -4.50178118e-01]\n",
      " [-5.98401679e-01 -5.29833090e-01 -4.46371717e-01  1.47685706e+00\n",
      "  -1.14353855e+00 -1.45810395e+00 -1.09302430e+00]\n",
      " [-9.31937042e-01 -7.04184015e-01 -1.02787333e+00 -1.42181891e+00\n",
      "   1.33511190e+00  1.07827765e+00  1.74088690e-01]\n",
      " [ 5.19922771e-01  9.81208263e-01  1.71349143e+00  1.56858731e+00\n",
      "  -1.06182480e+00 -1.76095548e+00  8.13218994e-01]\n",
      " [-5.00303043e-01 -8.78534940e-01 -1.36015997e+00 -1.34843471e+00\n",
      "   1.00825690e+00  1.38112918e+00  1.50065566e+00]\n",
      " [-1.65786695e+00  2.84095147e+00  1.68026277e+00  1.44016496e+00\n",
      "  -1.19801439e+00 -1.30667818e+00  2.52122041e-01]\n",
      " [-3.43345226e-01  1.09453636e-01 -1.04448767e+00  5.59554539e-01\n",
      "  -5.71542293e-01 -3.60267137e-01 -4.16735253e-01]\n",
      " [-5.59162225e-01  5.13366613e-02  2.84658887e-01 -5.96246640e-01\n",
      "   1.00825690e+00 -1.70984928e-01  4.45347482e-01]\n",
      " [-2.50151522e+00 -3.55482164e-01 -2.80228398e-01 -4.31132186e-01\n",
      "   8.21677165e-02  7.75426115e-01  1.14021589e+00]\n",
      " [ 6.18021407e-01 -4.13599139e-01 -1.14085079e-01  5.04516387e-01\n",
      "  -4.62590625e-01 -3.98123579e-01  3.11576023e-01]]\n",
      "[[ 2.94295908e-02 -6.46067040e-01 -5.95900704e-01  3.94440085e-01\n",
      "  -4.08114791e-01 -2.46697812e-01 -6.13676567e-01]\n",
      " [-1.75596558e+00  1.27179314e+00  1.61380544e+00 -1.16497420e+00\n",
      "   1.19892232e+00  7.37569673e-01  2.75290515e+00]\n",
      " [-1.06927513e+00 -9.94768891e-01 -1.55953195e+00 -5.59554539e-01\n",
      "   3.00071053e-01  7.37569673e-01  2.75662102e+00]\n",
      " [-1.03003568e+00 -1.81131239e-01  5.20582400e-02  1.18332025e+00\n",
      "  -1.22525230e+00 -7.38831554e-01 -1.37543071e+00]\n",
      " [ 1.07908500e-01  2.83804562e-01  8.16317507e-01  4.86170337e-01\n",
      "  -6.53256044e-01 -9.52720450e-02 -4.16735253e-01]\n",
      " [ 1.14775404e+00  1.91107986e+00  1.77994876e+00 -1.31174261e+00\n",
      "   6.54163975e-01  1.79755004e+00  7.20322147e-01]\n",
      " [ 3.43345226e-01 -7.62300990e-01 -7.12201028e-01  6.51284791e-01\n",
      "  -4.62590625e-01 -7.00975112e-01 -8.55208368e-01]\n",
      " [-2.25626863e-01  2.25687587e-01  7.16631516e-01 -2.47671681e-01\n",
      "   5.45212306e-01 -2.46697812e-01 -5.50506712e-01]\n",
      " [ 1.14775404e+00 -2.39248214e-01  1.51744231e-01 -1.16497420e+00\n",
      "   4.63498555e-01  1.75969360e+00 -7.98912879e-03]\n",
      " [ 1.69710640e+00  2.49224962e+00  1.77994876e+00  1.19249328e-01\n",
      "  -9.25635215e-01  1.04042121e+00  1.45234930e+00]\n",
      " [-2.64866317e-01 -2.39248214e-01  1.88295762e-02  5.04516387e-01\n",
      "  -4.35352708e-01 -4.35980020e-01  9.13547588e-01]\n",
      " [ 1.47147954e-01  1.56237801e+00  1.71349143e+00  1.37595378e-01\n",
      "   8.21677165e-02 -3.98123579e-01  2.24383043e+00]\n",
      " [-2.84486044e-01  5.16272462e-01  9.99075158e-01  1.27505051e+00\n",
      "  -1.25249022e+00 -8.90257321e-01 -1.04100206e+00]\n",
      " [ 5.78781952e-01 -8.20417965e-01 -1.37677430e+00  5.04516387e-01\n",
      "  -7.89445629e-01  5.61537219e-02 -1.15749471e-01]\n",
      " [ 8.82887724e-02 -8.78534940e-01 -7.62044023e-01  6.42111766e-02\n",
      "  -2.71925205e-01  2.45435930e-01  9.06115840e-01]\n",
      " [-3.58060021e+00 -6.46067040e-01 -1.31031698e+00 -4.49478236e-01\n",
      "   2.76918823e-02  8.88995440e-01  2.74918927e+00]\n",
      " [ 5.98401679e-01 -7.04184015e-01 -9.78030338e-01 -7.43015043e-01\n",
      "   5.45212306e-01  7.75426115e-01  6.57152292e-01]\n",
      " [-2.25626863e-01 -6.46067040e-01 -6.12515036e-01 -5.22862438e-01\n",
      "   8.99305228e-01 -1.70984928e-01 -1.02613857e+00]\n",
      " [ 1.07908500e-01 -5.87950065e-01 -1.07771633e+00  2.66017732e-01\n",
      "  -1.19801439e+00  1.07827765e+00 -6.06244820e-01]\n",
      " [-9.31937042e-01 -8.78534940e-01 -9.78030338e-01 -1.29339656e+00\n",
      "  -2.67839518e-02  2.70610464e+00  2.27355742e+00]\n",
      " [-2.25626863e-01 -4.13599139e-01 -4.13143053e-01 -4.49478236e-01\n",
      "   5.45212306e-01  1.69723047e-01  7.79776129e-01]\n",
      " [-2.79581113e+00 -6.48972889e-02 -9.11573010e-01 -1.53189521e+00\n",
      "   8.72067311e-01  1.94897581e+00 -5.98813072e-01]\n",
      " [ 2.94295908e-02 -9.36651915e-01 -1.07771633e+00  1.16497420e+00\n",
      "  -1.11630063e+00 -8.52400879e-01 -1.22679575e+00]\n",
      " [ 5.78781952e-01  2.25687587e-01  5.67102529e-01  2.66017732e-01\n",
      "  -1.17077647e+00  1.07827765e+00  1.39661119e+00]\n",
      " [-1.47147954e-01 -3.55482164e-01 -1.80542407e-01  4.58651261e-02\n",
      "  -8.12597859e-02  1.82972802e-02 -6.32255937e-01]\n",
      " [ 4.90493180e-02 -3.55482164e-01 -6.78972364e-01 -1.31174261e+00\n",
      "   3.27308970e-01  2.25182734e+00  1.74961921e+00]\n",
      " [-1.28509213e+00 -8.78534940e-01 -9.78030338e-01  1.58693336e+00\n",
      "  -1.11630063e+00 -1.72309904e+00 -1.18220527e+00]\n",
      " [-2.03064176e+00  3.18965332e+00  1.76333443e+00 -1.29339656e+00\n",
      "   2.72833136e-01  2.28968378e+00  5.97698310e-01]\n",
      " [ 1.47147954e-01  8.64974313e-01  7.83088844e-01 -1.25670446e+00\n",
      "  -2.67839518e-02  2.63039176e+00  4.15620491e-01]\n",
      " [ 3.04105772e-01  2.83804562e-01  5.67102529e-01 -1.89881622e+00\n",
      "   3.05110068e+00 -3.22410695e-01 -1.17050026e-02]\n",
      " [ 7.55359497e-01 -6.48972889e-02  3.34501882e-01  3.02709832e-01\n",
      "  -3.53638957e-01 -1.33128487e-01 -3.83292388e-01]\n",
      " [ 2.64866317e-01  6.32506412e-01  1.06553249e+00  4.12786135e-01\n",
      "  -3.53638957e-01 -3.60267137e-01 -1.15991002e+00]\n",
      " [-1.81482477e+00  1.50426104e+00  1.73010576e+00 -4.31132186e-01\n",
      "   4.53965284e-04  8.88995440e-01  1.48579216e+00]\n",
      " [-1.69710640e+00  1.09453636e-01  4.00959210e-01  4.67824286e-01\n",
      "  -3.26401039e-01 -5.11692904e-01 -7.66027396e-01]\n",
      " [-9.80986360e-03 -2.39248214e-01 -8.08564153e-02 -8.89783447e-01\n",
      "   4.63498555e-01  1.19184697e+00 -1.26897092e-01]\n",
      " [-5.59162225e-01 -6.46067040e-01 -5.12829045e-01  4.31132186e-01\n",
      "  -2.99163122e-01 -4.73836462e-01  1.92668059e-01]\n",
      " [ 1.07908500e-01 -7.04184015e-01 -6.78972364e-01  1.37595378e-01\n",
      "  -3.26401039e-01  1.69723047e-01 -6.32255937e-01]\n",
      " [-1.27528227e-01 -1.81131239e-01  1.68358563e-01  1.47685706e+00\n",
      "  -1.00734897e+00 -1.64738616e+00  5.60539571e-01]\n",
      " [ 5.39542498e-01  5.13366613e-02  8.16317507e-01  1.37595378e-01\n",
      "  -1.90211454e-01 -1.95591616e-02  7.61196760e-01]\n",
      " [-1.86387408e-01  2.83804562e-01  7.83088844e-01  1.92633530e-01\n",
      "   3.54546887e-01 -8.90257321e-01  5.12233211e-01]]\n"
     ]
    }
   ],
   "source": [
    "# Feature Scaling\n",
    "sc = StandardScaler()\n",
    "x_train = sc.fit_transform(x_train)\n",
    "x_test = sc.transform(x_test)\n",
    "print(x_train)\n",
    "print(x_test)"
   ]
  },
  {
   "cell_type": "markdown",
   "metadata": {},
   "source": [
    "# Random Forest"
   ]
  },
  {
   "cell_type": "code",
   "execution_count": 11,
   "metadata": {},
   "outputs": [],
   "source": [
    "accuracy = {}"
   ]
  },
  {
   "cell_type": "code",
   "execution_count": 18,
   "metadata": {},
   "outputs": [
    {
     "name": "stdout",
     "output_type": "stream",
     "text": [
      "----- RANDOM FOREST -----\n"
     ]
    }
   ],
   "source": [
    "print('----- RANDOM FOREST -----')\n",
    "rf = RandomForestClassifier(n_estimators=300)\n",
    "rf.fit(x_train, y_train)\n",
    "testlabel = rf.predict(x_test)\n",
    "res = pd.DataFrame(list(zip(y_test, testlabel)), columns=[\"Actual Values\", \"Predictions\"])"
   ]
  },
  {
   "cell_type": "code",
   "execution_count": 19,
   "metadata": {},
   "outputs": [
    {
     "name": "stdout",
     "output_type": "stream",
     "text": [
      "Accuracy:  90.0 %\n"
     ]
    }
   ],
   "source": [
    "rf_acc= rf.score(x_test,y_test)\n",
    "print(\"Accuracy: \",rf_acc*100,\"%\")\n",
    "accuracy['Random Forest'] = rf_acc"
   ]
  },
  {
   "cell_type": "code",
   "execution_count": 20,
   "metadata": {},
   "outputs": [
    {
     "name": "stdout",
     "output_type": "stream",
     "text": [
      "[[19  2]\n",
      " [ 2 17]]\n"
     ]
    },
    {
     "data": {
      "text/plain": [
       "0.9"
      ]
     },
     "execution_count": 20,
     "metadata": {},
     "output_type": "execute_result"
    }
   ],
   "source": [
    "y_pred = rf.predict(x_test)\n",
    "cm = confusion_matrix(y_test, y_pred)\n",
    "print(cm)\n",
    "accuracy_score(y_test, y_pred)"
   ]
  },
  {
   "cell_type": "markdown",
   "metadata": {},
   "source": [
    "# Kernel SVM"
   ]
  },
  {
   "cell_type": "code",
   "execution_count": 21,
   "metadata": {},
   "outputs": [
    {
     "data": {
      "text/html": [
       "<style>#sk-container-id-1 {color: black;background-color: white;}#sk-container-id-1 pre{padding: 0;}#sk-container-id-1 div.sk-toggleable {background-color: white;}#sk-container-id-1 label.sk-toggleable__label {cursor: pointer;display: block;width: 100%;margin-bottom: 0;padding: 0.3em;box-sizing: border-box;text-align: center;}#sk-container-id-1 label.sk-toggleable__label-arrow:before {content: \"▸\";float: left;margin-right: 0.25em;color: #696969;}#sk-container-id-1 label.sk-toggleable__label-arrow:hover:before {color: black;}#sk-container-id-1 div.sk-estimator:hover label.sk-toggleable__label-arrow:before {color: black;}#sk-container-id-1 div.sk-toggleable__content {max-height: 0;max-width: 0;overflow: hidden;text-align: left;background-color: #f0f8ff;}#sk-container-id-1 div.sk-toggleable__content pre {margin: 0.2em;color: black;border-radius: 0.25em;background-color: #f0f8ff;}#sk-container-id-1 input.sk-toggleable__control:checked~div.sk-toggleable__content {max-height: 200px;max-width: 100%;overflow: auto;}#sk-container-id-1 input.sk-toggleable__control:checked~label.sk-toggleable__label-arrow:before {content: \"▾\";}#sk-container-id-1 div.sk-estimator input.sk-toggleable__control:checked~label.sk-toggleable__label {background-color: #d4ebff;}#sk-container-id-1 div.sk-label input.sk-toggleable__control:checked~label.sk-toggleable__label {background-color: #d4ebff;}#sk-container-id-1 input.sk-hidden--visually {border: 0;clip: rect(1px 1px 1px 1px);clip: rect(1px, 1px, 1px, 1px);height: 1px;margin: -1px;overflow: hidden;padding: 0;position: absolute;width: 1px;}#sk-container-id-1 div.sk-estimator {font-family: monospace;background-color: #f0f8ff;border: 1px dotted black;border-radius: 0.25em;box-sizing: border-box;margin-bottom: 0.5em;}#sk-container-id-1 div.sk-estimator:hover {background-color: #d4ebff;}#sk-container-id-1 div.sk-parallel-item::after {content: \"\";width: 100%;border-bottom: 1px solid gray;flex-grow: 1;}#sk-container-id-1 div.sk-label:hover label.sk-toggleable__label {background-color: #d4ebff;}#sk-container-id-1 div.sk-serial::before {content: \"\";position: absolute;border-left: 1px solid gray;box-sizing: border-box;top: 0;bottom: 0;left: 50%;z-index: 0;}#sk-container-id-1 div.sk-serial {display: flex;flex-direction: column;align-items: center;background-color: white;padding-right: 0.2em;padding-left: 0.2em;position: relative;}#sk-container-id-1 div.sk-item {position: relative;z-index: 1;}#sk-container-id-1 div.sk-parallel {display: flex;align-items: stretch;justify-content: center;background-color: white;position: relative;}#sk-container-id-1 div.sk-item::before, #sk-container-id-1 div.sk-parallel-item::before {content: \"\";position: absolute;border-left: 1px solid gray;box-sizing: border-box;top: 0;bottom: 0;left: 50%;z-index: -1;}#sk-container-id-1 div.sk-parallel-item {display: flex;flex-direction: column;z-index: 1;position: relative;background-color: white;}#sk-container-id-1 div.sk-parallel-item:first-child::after {align-self: flex-end;width: 50%;}#sk-container-id-1 div.sk-parallel-item:last-child::after {align-self: flex-start;width: 50%;}#sk-container-id-1 div.sk-parallel-item:only-child::after {width: 0;}#sk-container-id-1 div.sk-dashed-wrapped {border: 1px dashed gray;margin: 0 0.4em 0.5em 0.4em;box-sizing: border-box;padding-bottom: 0.4em;background-color: white;}#sk-container-id-1 div.sk-label label {font-family: monospace;font-weight: bold;display: inline-block;line-height: 1.2em;}#sk-container-id-1 div.sk-label-container {text-align: center;}#sk-container-id-1 div.sk-container {/* jupyter's `normalize.less` sets `[hidden] { display: none; }` but bootstrap.min.css set `[hidden] { display: none !important; }` so we also need the `!important` here to be able to override the default hidden behavior on the sphinx rendered scikit-learn.org. See: https://github.com/scikit-learn/scikit-learn/issues/21755 */display: inline-block !important;position: relative;}#sk-container-id-1 div.sk-text-repr-fallback {display: none;}</style><div id=\"sk-container-id-1\" class=\"sk-top-container\"><div class=\"sk-text-repr-fallback\"><pre>SVC(random_state=0)</pre><b>In a Jupyter environment, please rerun this cell to show the HTML representation or trust the notebook. <br />On GitHub, the HTML representation is unable to render, please try loading this page with nbviewer.org.</b></div><div class=\"sk-container\" hidden><div class=\"sk-item\"><div class=\"sk-estimator sk-toggleable\"><input class=\"sk-toggleable__control sk-hidden--visually\" id=\"sk-estimator-id-1\" type=\"checkbox\" checked><label for=\"sk-estimator-id-1\" class=\"sk-toggleable__label sk-toggleable__label-arrow\">SVC</label><div class=\"sk-toggleable__content\"><pre>SVC(random_state=0)</pre></div></div></div></div></div>"
      ],
      "text/plain": [
       "SVC(random_state=0)"
      ]
     },
     "execution_count": 21,
     "metadata": {},
     "output_type": "execute_result"
    }
   ],
   "source": [
    "svc_model = SVC(kernel = 'rbf', random_state = 0)\n",
    "svc_model.fit(x_train, y_train)"
   ]
  },
  {
   "cell_type": "code",
   "execution_count": 22,
   "metadata": {},
   "outputs": [
    {
     "name": "stdout",
     "output_type": "stream",
     "text": [
      "[[20  1]\n",
      " [ 2 17]]\n",
      "0.925\n"
     ]
    }
   ],
   "source": [
    "y_pred = svc_model.predict(x_test)\n",
    "cm = confusion_matrix(y_test, y_pred)\n",
    "print(cm)\n",
    "svm_acc = accuracy_score(y_test, y_pred)\n",
    "accuracy['SVM'] = svm_acc\n",
    "print(svm_acc)"
   ]
  },
  {
   "cell_type": "code",
   "execution_count": 157,
   "metadata": {},
   "outputs": [
    {
     "name": "stdout",
     "output_type": "stream",
     "text": [
      "Best Accuracy: 93.33 %\n",
      "Best Parameters: {'C': 0.25, 'kernel': 'linear'}\n"
     ]
    }
   ],
   "source": [
    "parameters = [{'C': [0.25, 0.5, 0.75, 1], 'kernel': ['linear']},\n",
    "              {'C': [0.25, 0.5, 0.75, 1], 'kernel': ['linear', 'rbf'], 'gamma': [0.1, 0.2, 0.3, 0.4, 0.5, 0.6, 0.7, 0.8, 0.9]}]\n",
    "grid_search = GridSearchCV(estimator = svc_model,\n",
    "                           param_grid = parameters,\n",
    "                           scoring = 'accuracy',\n",
    "                           cv = 10,\n",
    "                           n_jobs = -1)\n",
    "grid_search.fit(x_train, y_train)\n",
    "best_accuracy = grid_search.best_score_\n",
    "best_parameters = grid_search.best_params_\n",
    "print(\"Best Accuracy: {:.2f} %\".format(best_accuracy*100))\n",
    "print(\"Best Parameters:\", best_parameters)"
   ]
  },
  {
   "cell_type": "markdown",
   "metadata": {},
   "source": [
    "# K-Nearest Neighbors"
   ]
  },
  {
   "cell_type": "code",
   "execution_count": 23,
   "metadata": {},
   "outputs": [
    {
     "data": {
      "text/html": [
       "<style>#sk-container-id-2 {color: black;background-color: white;}#sk-container-id-2 pre{padding: 0;}#sk-container-id-2 div.sk-toggleable {background-color: white;}#sk-container-id-2 label.sk-toggleable__label {cursor: pointer;display: block;width: 100%;margin-bottom: 0;padding: 0.3em;box-sizing: border-box;text-align: center;}#sk-container-id-2 label.sk-toggleable__label-arrow:before {content: \"▸\";float: left;margin-right: 0.25em;color: #696969;}#sk-container-id-2 label.sk-toggleable__label-arrow:hover:before {color: black;}#sk-container-id-2 div.sk-estimator:hover label.sk-toggleable__label-arrow:before {color: black;}#sk-container-id-2 div.sk-toggleable__content {max-height: 0;max-width: 0;overflow: hidden;text-align: left;background-color: #f0f8ff;}#sk-container-id-2 div.sk-toggleable__content pre {margin: 0.2em;color: black;border-radius: 0.25em;background-color: #f0f8ff;}#sk-container-id-2 input.sk-toggleable__control:checked~div.sk-toggleable__content {max-height: 200px;max-width: 100%;overflow: auto;}#sk-container-id-2 input.sk-toggleable__control:checked~label.sk-toggleable__label-arrow:before {content: \"▾\";}#sk-container-id-2 div.sk-estimator input.sk-toggleable__control:checked~label.sk-toggleable__label {background-color: #d4ebff;}#sk-container-id-2 div.sk-label input.sk-toggleable__control:checked~label.sk-toggleable__label {background-color: #d4ebff;}#sk-container-id-2 input.sk-hidden--visually {border: 0;clip: rect(1px 1px 1px 1px);clip: rect(1px, 1px, 1px, 1px);height: 1px;margin: -1px;overflow: hidden;padding: 0;position: absolute;width: 1px;}#sk-container-id-2 div.sk-estimator {font-family: monospace;background-color: #f0f8ff;border: 1px dotted black;border-radius: 0.25em;box-sizing: border-box;margin-bottom: 0.5em;}#sk-container-id-2 div.sk-estimator:hover {background-color: #d4ebff;}#sk-container-id-2 div.sk-parallel-item::after {content: \"\";width: 100%;border-bottom: 1px solid gray;flex-grow: 1;}#sk-container-id-2 div.sk-label:hover label.sk-toggleable__label {background-color: #d4ebff;}#sk-container-id-2 div.sk-serial::before {content: \"\";position: absolute;border-left: 1px solid gray;box-sizing: border-box;top: 0;bottom: 0;left: 50%;z-index: 0;}#sk-container-id-2 div.sk-serial {display: flex;flex-direction: column;align-items: center;background-color: white;padding-right: 0.2em;padding-left: 0.2em;position: relative;}#sk-container-id-2 div.sk-item {position: relative;z-index: 1;}#sk-container-id-2 div.sk-parallel {display: flex;align-items: stretch;justify-content: center;background-color: white;position: relative;}#sk-container-id-2 div.sk-item::before, #sk-container-id-2 div.sk-parallel-item::before {content: \"\";position: absolute;border-left: 1px solid gray;box-sizing: border-box;top: 0;bottom: 0;left: 50%;z-index: -1;}#sk-container-id-2 div.sk-parallel-item {display: flex;flex-direction: column;z-index: 1;position: relative;background-color: white;}#sk-container-id-2 div.sk-parallel-item:first-child::after {align-self: flex-end;width: 50%;}#sk-container-id-2 div.sk-parallel-item:last-child::after {align-self: flex-start;width: 50%;}#sk-container-id-2 div.sk-parallel-item:only-child::after {width: 0;}#sk-container-id-2 div.sk-dashed-wrapped {border: 1px dashed gray;margin: 0 0.4em 0.5em 0.4em;box-sizing: border-box;padding-bottom: 0.4em;background-color: white;}#sk-container-id-2 div.sk-label label {font-family: monospace;font-weight: bold;display: inline-block;line-height: 1.2em;}#sk-container-id-2 div.sk-label-container {text-align: center;}#sk-container-id-2 div.sk-container {/* jupyter's `normalize.less` sets `[hidden] { display: none; }` but bootstrap.min.css set `[hidden] { display: none !important; }` so we also need the `!important` here to be able to override the default hidden behavior on the sphinx rendered scikit-learn.org. See: https://github.com/scikit-learn/scikit-learn/issues/21755 */display: inline-block !important;position: relative;}#sk-container-id-2 div.sk-text-repr-fallback {display: none;}</style><div id=\"sk-container-id-2\" class=\"sk-top-container\"><div class=\"sk-text-repr-fallback\"><pre>KNeighborsClassifier(leaf_size=1, n_neighbors=3, p=1)</pre><b>In a Jupyter environment, please rerun this cell to show the HTML representation or trust the notebook. <br />On GitHub, the HTML representation is unable to render, please try loading this page with nbviewer.org.</b></div><div class=\"sk-container\" hidden><div class=\"sk-item\"><div class=\"sk-estimator sk-toggleable\"><input class=\"sk-toggleable__control sk-hidden--visually\" id=\"sk-estimator-id-2\" type=\"checkbox\" checked><label for=\"sk-estimator-id-2\" class=\"sk-toggleable__label sk-toggleable__label-arrow\">KNeighborsClassifier</label><div class=\"sk-toggleable__content\"><pre>KNeighborsClassifier(leaf_size=1, n_neighbors=3, p=1)</pre></div></div></div></div></div>"
      ],
      "text/plain": [
       "KNeighborsClassifier(leaf_size=1, n_neighbors=3, p=1)"
      ]
     },
     "execution_count": 23,
     "metadata": {},
     "output_type": "execute_result"
    }
   ],
   "source": [
    "knn_classifier = KNeighborsClassifier(n_neighbors = 3, metric = 'minkowski', p = 1, leaf_size = 1)\n",
    "knn_classifier.fit(x_train, y_train)"
   ]
  },
  {
   "cell_type": "code",
   "execution_count": 24,
   "metadata": {},
   "outputs": [
    {
     "name": "stdout",
     "output_type": "stream",
     "text": [
      "[[20  1]\n",
      " [ 0 19]]\n",
      "0.975\n"
     ]
    }
   ],
   "source": [
    "y_pred = knn_classifier.predict(x_test)\n",
    "cm = confusion_matrix(y_test, y_pred)\n",
    "print(cm)\n",
    "knn_acc = accuracy_score(y_test, y_pred)\n",
    "accuracy[\"KNN\"] = knn_acc\n",
    "print(knn_acc)"
   ]
  },
  {
   "cell_type": "code",
   "execution_count": 25,
   "metadata": {},
   "outputs": [
    {
     "name": "stdout",
     "output_type": "stream",
     "text": [
      "              precision    recall  f1-score   support\n",
      "\n",
      "           0       1.00      0.95      0.98        21\n",
      "           1       0.95      1.00      0.97        19\n",
      "\n",
      "    accuracy                           0.97        40\n",
      "   macro avg       0.97      0.98      0.97        40\n",
      "weighted avg       0.98      0.97      0.98        40\n",
      "\n"
     ]
    }
   ],
   "source": [
    "from sklearn.metrics import classification_report\n",
    "print(classification_report(y_test, y_pred))"
   ]
  },
  {
   "cell_type": "code",
   "execution_count": 195,
   "metadata": {},
   "outputs": [
    {
     "name": "stdout",
     "output_type": "stream",
     "text": [
      "Best leaf_size: 1\n",
      "Best p: 1\n",
      "Best n_neighbors: 3\n"
     ]
    }
   ],
   "source": [
    "#List Hyperparameters that we want to tune.\n",
    "leaf_size = list(range(1,50))\n",
    "n_neighbors = list(range(1,30))\n",
    "p=[1,2]\n",
    "#Convert to dictionary\n",
    "hyperparameters = dict(leaf_size=leaf_size, n_neighbors=n_neighbors, p=p)\n",
    "#Create new KNN object\n",
    "knn_2 = KNeighborsClassifier()\n",
    "#Use GridSearch\n",
    "clf = GridSearchCV(knn_2, hyperparameters, cv=10)\n",
    "#Fit the model\n",
    "best_model = clf.fit(x_train,y_train)\n",
    "#Print The value of best Hyperparameters\n",
    "print('Best leaf_size:', best_model.best_estimator_.get_params()['leaf_size'])\n",
    "print('Best p:', best_model.best_estimator_.get_params()['p'])\n",
    "print('Best n_neighbors:', best_model.best_estimator_.get_params()['n_neighbors'])"
   ]
  },
  {
   "cell_type": "markdown",
   "metadata": {},
   "source": [
    "# Decision Tree"
   ]
  },
  {
   "cell_type": "code",
   "execution_count": 26,
   "metadata": {},
   "outputs": [
    {
     "data": {
      "text/html": [
       "<style>#sk-container-id-3 {color: black;background-color: white;}#sk-container-id-3 pre{padding: 0;}#sk-container-id-3 div.sk-toggleable {background-color: white;}#sk-container-id-3 label.sk-toggleable__label {cursor: pointer;display: block;width: 100%;margin-bottom: 0;padding: 0.3em;box-sizing: border-box;text-align: center;}#sk-container-id-3 label.sk-toggleable__label-arrow:before {content: \"▸\";float: left;margin-right: 0.25em;color: #696969;}#sk-container-id-3 label.sk-toggleable__label-arrow:hover:before {color: black;}#sk-container-id-3 div.sk-estimator:hover label.sk-toggleable__label-arrow:before {color: black;}#sk-container-id-3 div.sk-toggleable__content {max-height: 0;max-width: 0;overflow: hidden;text-align: left;background-color: #f0f8ff;}#sk-container-id-3 div.sk-toggleable__content pre {margin: 0.2em;color: black;border-radius: 0.25em;background-color: #f0f8ff;}#sk-container-id-3 input.sk-toggleable__control:checked~div.sk-toggleable__content {max-height: 200px;max-width: 100%;overflow: auto;}#sk-container-id-3 input.sk-toggleable__control:checked~label.sk-toggleable__label-arrow:before {content: \"▾\";}#sk-container-id-3 div.sk-estimator input.sk-toggleable__control:checked~label.sk-toggleable__label {background-color: #d4ebff;}#sk-container-id-3 div.sk-label input.sk-toggleable__control:checked~label.sk-toggleable__label {background-color: #d4ebff;}#sk-container-id-3 input.sk-hidden--visually {border: 0;clip: rect(1px 1px 1px 1px);clip: rect(1px, 1px, 1px, 1px);height: 1px;margin: -1px;overflow: hidden;padding: 0;position: absolute;width: 1px;}#sk-container-id-3 div.sk-estimator {font-family: monospace;background-color: #f0f8ff;border: 1px dotted black;border-radius: 0.25em;box-sizing: border-box;margin-bottom: 0.5em;}#sk-container-id-3 div.sk-estimator:hover {background-color: #d4ebff;}#sk-container-id-3 div.sk-parallel-item::after {content: \"\";width: 100%;border-bottom: 1px solid gray;flex-grow: 1;}#sk-container-id-3 div.sk-label:hover label.sk-toggleable__label {background-color: #d4ebff;}#sk-container-id-3 div.sk-serial::before {content: \"\";position: absolute;border-left: 1px solid gray;box-sizing: border-box;top: 0;bottom: 0;left: 50%;z-index: 0;}#sk-container-id-3 div.sk-serial {display: flex;flex-direction: column;align-items: center;background-color: white;padding-right: 0.2em;padding-left: 0.2em;position: relative;}#sk-container-id-3 div.sk-item {position: relative;z-index: 1;}#sk-container-id-3 div.sk-parallel {display: flex;align-items: stretch;justify-content: center;background-color: white;position: relative;}#sk-container-id-3 div.sk-item::before, #sk-container-id-3 div.sk-parallel-item::before {content: \"\";position: absolute;border-left: 1px solid gray;box-sizing: border-box;top: 0;bottom: 0;left: 50%;z-index: -1;}#sk-container-id-3 div.sk-parallel-item {display: flex;flex-direction: column;z-index: 1;position: relative;background-color: white;}#sk-container-id-3 div.sk-parallel-item:first-child::after {align-self: flex-end;width: 50%;}#sk-container-id-3 div.sk-parallel-item:last-child::after {align-self: flex-start;width: 50%;}#sk-container-id-3 div.sk-parallel-item:only-child::after {width: 0;}#sk-container-id-3 div.sk-dashed-wrapped {border: 1px dashed gray;margin: 0 0.4em 0.5em 0.4em;box-sizing: border-box;padding-bottom: 0.4em;background-color: white;}#sk-container-id-3 div.sk-label label {font-family: monospace;font-weight: bold;display: inline-block;line-height: 1.2em;}#sk-container-id-3 div.sk-label-container {text-align: center;}#sk-container-id-3 div.sk-container {/* jupyter's `normalize.less` sets `[hidden] { display: none; }` but bootstrap.min.css set `[hidden] { display: none !important; }` so we also need the `!important` here to be able to override the default hidden behavior on the sphinx rendered scikit-learn.org. See: https://github.com/scikit-learn/scikit-learn/issues/21755 */display: inline-block !important;position: relative;}#sk-container-id-3 div.sk-text-repr-fallback {display: none;}</style><div id=\"sk-container-id-3\" class=\"sk-top-container\"><div class=\"sk-text-repr-fallback\"><pre>DecisionTreeClassifier(criterion=&#x27;entropy&#x27;, random_state=0)</pre><b>In a Jupyter environment, please rerun this cell to show the HTML representation or trust the notebook. <br />On GitHub, the HTML representation is unable to render, please try loading this page with nbviewer.org.</b></div><div class=\"sk-container\" hidden><div class=\"sk-item\"><div class=\"sk-estimator sk-toggleable\"><input class=\"sk-toggleable__control sk-hidden--visually\" id=\"sk-estimator-id-3\" type=\"checkbox\" checked><label for=\"sk-estimator-id-3\" class=\"sk-toggleable__label sk-toggleable__label-arrow\">DecisionTreeClassifier</label><div class=\"sk-toggleable__content\"><pre>DecisionTreeClassifier(criterion=&#x27;entropy&#x27;, random_state=0)</pre></div></div></div></div></div>"
      ],
      "text/plain": [
       "DecisionTreeClassifier(criterion='entropy', random_state=0)"
      ]
     },
     "execution_count": 26,
     "metadata": {},
     "output_type": "execute_result"
    }
   ],
   "source": [
    "dt_classifier = DecisionTreeClassifier(criterion = 'entropy', random_state = 0)\n",
    "dt_classifier.fit(x_train, y_train)"
   ]
  },
  {
   "cell_type": "code",
   "execution_count": 27,
   "metadata": {},
   "outputs": [
    {
     "name": "stdout",
     "output_type": "stream",
     "text": [
      "[[18  3]\n",
      " [ 2 17]]\n",
      "0.875\n"
     ]
    }
   ],
   "source": [
    "y_pred = dt_classifier.predict(x_test)\n",
    "cm = confusion_matrix(y_test, y_pred)\n",
    "print(cm)\n",
    "dt_acc = accuracy_score(y_test, y_pred)\n",
    "accuracy[\"Decision Tree\"] = dt_acc\n",
    "print(dt_acc)"
   ]
  },
  {
   "cell_type": "markdown",
   "metadata": {},
   "source": [
    "# Logistic Regression"
   ]
  },
  {
   "cell_type": "code",
   "execution_count": 28,
   "metadata": {},
   "outputs": [
    {
     "data": {
      "text/html": [
       "<style>#sk-container-id-4 {color: black;background-color: white;}#sk-container-id-4 pre{padding: 0;}#sk-container-id-4 div.sk-toggleable {background-color: white;}#sk-container-id-4 label.sk-toggleable__label {cursor: pointer;display: block;width: 100%;margin-bottom: 0;padding: 0.3em;box-sizing: border-box;text-align: center;}#sk-container-id-4 label.sk-toggleable__label-arrow:before {content: \"▸\";float: left;margin-right: 0.25em;color: #696969;}#sk-container-id-4 label.sk-toggleable__label-arrow:hover:before {color: black;}#sk-container-id-4 div.sk-estimator:hover label.sk-toggleable__label-arrow:before {color: black;}#sk-container-id-4 div.sk-toggleable__content {max-height: 0;max-width: 0;overflow: hidden;text-align: left;background-color: #f0f8ff;}#sk-container-id-4 div.sk-toggleable__content pre {margin: 0.2em;color: black;border-radius: 0.25em;background-color: #f0f8ff;}#sk-container-id-4 input.sk-toggleable__control:checked~div.sk-toggleable__content {max-height: 200px;max-width: 100%;overflow: auto;}#sk-container-id-4 input.sk-toggleable__control:checked~label.sk-toggleable__label-arrow:before {content: \"▾\";}#sk-container-id-4 div.sk-estimator input.sk-toggleable__control:checked~label.sk-toggleable__label {background-color: #d4ebff;}#sk-container-id-4 div.sk-label input.sk-toggleable__control:checked~label.sk-toggleable__label {background-color: #d4ebff;}#sk-container-id-4 input.sk-hidden--visually {border: 0;clip: rect(1px 1px 1px 1px);clip: rect(1px, 1px, 1px, 1px);height: 1px;margin: -1px;overflow: hidden;padding: 0;position: absolute;width: 1px;}#sk-container-id-4 div.sk-estimator {font-family: monospace;background-color: #f0f8ff;border: 1px dotted black;border-radius: 0.25em;box-sizing: border-box;margin-bottom: 0.5em;}#sk-container-id-4 div.sk-estimator:hover {background-color: #d4ebff;}#sk-container-id-4 div.sk-parallel-item::after {content: \"\";width: 100%;border-bottom: 1px solid gray;flex-grow: 1;}#sk-container-id-4 div.sk-label:hover label.sk-toggleable__label {background-color: #d4ebff;}#sk-container-id-4 div.sk-serial::before {content: \"\";position: absolute;border-left: 1px solid gray;box-sizing: border-box;top: 0;bottom: 0;left: 50%;z-index: 0;}#sk-container-id-4 div.sk-serial {display: flex;flex-direction: column;align-items: center;background-color: white;padding-right: 0.2em;padding-left: 0.2em;position: relative;}#sk-container-id-4 div.sk-item {position: relative;z-index: 1;}#sk-container-id-4 div.sk-parallel {display: flex;align-items: stretch;justify-content: center;background-color: white;position: relative;}#sk-container-id-4 div.sk-item::before, #sk-container-id-4 div.sk-parallel-item::before {content: \"\";position: absolute;border-left: 1px solid gray;box-sizing: border-box;top: 0;bottom: 0;left: 50%;z-index: -1;}#sk-container-id-4 div.sk-parallel-item {display: flex;flex-direction: column;z-index: 1;position: relative;background-color: white;}#sk-container-id-4 div.sk-parallel-item:first-child::after {align-self: flex-end;width: 50%;}#sk-container-id-4 div.sk-parallel-item:last-child::after {align-self: flex-start;width: 50%;}#sk-container-id-4 div.sk-parallel-item:only-child::after {width: 0;}#sk-container-id-4 div.sk-dashed-wrapped {border: 1px dashed gray;margin: 0 0.4em 0.5em 0.4em;box-sizing: border-box;padding-bottom: 0.4em;background-color: white;}#sk-container-id-4 div.sk-label label {font-family: monospace;font-weight: bold;display: inline-block;line-height: 1.2em;}#sk-container-id-4 div.sk-label-container {text-align: center;}#sk-container-id-4 div.sk-container {/* jupyter's `normalize.less` sets `[hidden] { display: none; }` but bootstrap.min.css set `[hidden] { display: none !important; }` so we also need the `!important` here to be able to override the default hidden behavior on the sphinx rendered scikit-learn.org. See: https://github.com/scikit-learn/scikit-learn/issues/21755 */display: inline-block !important;position: relative;}#sk-container-id-4 div.sk-text-repr-fallback {display: none;}</style><div id=\"sk-container-id-4\" class=\"sk-top-container\"><div class=\"sk-text-repr-fallback\"><pre>LogisticRegression(random_state=0)</pre><b>In a Jupyter environment, please rerun this cell to show the HTML representation or trust the notebook. <br />On GitHub, the HTML representation is unable to render, please try loading this page with nbviewer.org.</b></div><div class=\"sk-container\" hidden><div class=\"sk-item\"><div class=\"sk-estimator sk-toggleable\"><input class=\"sk-toggleable__control sk-hidden--visually\" id=\"sk-estimator-id-4\" type=\"checkbox\" checked><label for=\"sk-estimator-id-4\" class=\"sk-toggleable__label sk-toggleable__label-arrow\">LogisticRegression</label><div class=\"sk-toggleable__content\"><pre>LogisticRegression(random_state=0)</pre></div></div></div></div></div>"
      ],
      "text/plain": [
       "LogisticRegression(random_state=0)"
      ]
     },
     "execution_count": 28,
     "metadata": {},
     "output_type": "execute_result"
    }
   ],
   "source": [
    "lr_classifier = LogisticRegression(penalty='l2', random_state = 0)\n",
    "lr_classifier.fit(x_train, y_train)"
   ]
  },
  {
   "cell_type": "code",
   "execution_count": 29,
   "metadata": {},
   "outputs": [
    {
     "name": "stdout",
     "output_type": "stream",
     "text": [
      "[[20  1]\n",
      " [ 2 17]]\n",
      "0.925\n"
     ]
    }
   ],
   "source": [
    "y_pred = lr_classifier.predict(x_test)\n",
    "cm = confusion_matrix(y_test, y_pred)\n",
    "print(cm)\n",
    "lr_acc = accuracy_score(y_test, y_pred)\n",
    "accuracy[\"Logistic Regression\"] = lr_acc\n",
    "print(lr_acc)"
   ]
  },
  {
   "cell_type": "markdown",
   "metadata": {},
   "source": [
    "# Naive Bayes"
   ]
  },
  {
   "cell_type": "code",
   "execution_count": 30,
   "metadata": {},
   "outputs": [
    {
     "data": {
      "text/html": [
       "<style>#sk-container-id-5 {color: black;background-color: white;}#sk-container-id-5 pre{padding: 0;}#sk-container-id-5 div.sk-toggleable {background-color: white;}#sk-container-id-5 label.sk-toggleable__label {cursor: pointer;display: block;width: 100%;margin-bottom: 0;padding: 0.3em;box-sizing: border-box;text-align: center;}#sk-container-id-5 label.sk-toggleable__label-arrow:before {content: \"▸\";float: left;margin-right: 0.25em;color: #696969;}#sk-container-id-5 label.sk-toggleable__label-arrow:hover:before {color: black;}#sk-container-id-5 div.sk-estimator:hover label.sk-toggleable__label-arrow:before {color: black;}#sk-container-id-5 div.sk-toggleable__content {max-height: 0;max-width: 0;overflow: hidden;text-align: left;background-color: #f0f8ff;}#sk-container-id-5 div.sk-toggleable__content pre {margin: 0.2em;color: black;border-radius: 0.25em;background-color: #f0f8ff;}#sk-container-id-5 input.sk-toggleable__control:checked~div.sk-toggleable__content {max-height: 200px;max-width: 100%;overflow: auto;}#sk-container-id-5 input.sk-toggleable__control:checked~label.sk-toggleable__label-arrow:before {content: \"▾\";}#sk-container-id-5 div.sk-estimator input.sk-toggleable__control:checked~label.sk-toggleable__label {background-color: #d4ebff;}#sk-container-id-5 div.sk-label input.sk-toggleable__control:checked~label.sk-toggleable__label {background-color: #d4ebff;}#sk-container-id-5 input.sk-hidden--visually {border: 0;clip: rect(1px 1px 1px 1px);clip: rect(1px, 1px, 1px, 1px);height: 1px;margin: -1px;overflow: hidden;padding: 0;position: absolute;width: 1px;}#sk-container-id-5 div.sk-estimator {font-family: monospace;background-color: #f0f8ff;border: 1px dotted black;border-radius: 0.25em;box-sizing: border-box;margin-bottom: 0.5em;}#sk-container-id-5 div.sk-estimator:hover {background-color: #d4ebff;}#sk-container-id-5 div.sk-parallel-item::after {content: \"\";width: 100%;border-bottom: 1px solid gray;flex-grow: 1;}#sk-container-id-5 div.sk-label:hover label.sk-toggleable__label {background-color: #d4ebff;}#sk-container-id-5 div.sk-serial::before {content: \"\";position: absolute;border-left: 1px solid gray;box-sizing: border-box;top: 0;bottom: 0;left: 50%;z-index: 0;}#sk-container-id-5 div.sk-serial {display: flex;flex-direction: column;align-items: center;background-color: white;padding-right: 0.2em;padding-left: 0.2em;position: relative;}#sk-container-id-5 div.sk-item {position: relative;z-index: 1;}#sk-container-id-5 div.sk-parallel {display: flex;align-items: stretch;justify-content: center;background-color: white;position: relative;}#sk-container-id-5 div.sk-item::before, #sk-container-id-5 div.sk-parallel-item::before {content: \"\";position: absolute;border-left: 1px solid gray;box-sizing: border-box;top: 0;bottom: 0;left: 50%;z-index: -1;}#sk-container-id-5 div.sk-parallel-item {display: flex;flex-direction: column;z-index: 1;position: relative;background-color: white;}#sk-container-id-5 div.sk-parallel-item:first-child::after {align-self: flex-end;width: 50%;}#sk-container-id-5 div.sk-parallel-item:last-child::after {align-self: flex-start;width: 50%;}#sk-container-id-5 div.sk-parallel-item:only-child::after {width: 0;}#sk-container-id-5 div.sk-dashed-wrapped {border: 1px dashed gray;margin: 0 0.4em 0.5em 0.4em;box-sizing: border-box;padding-bottom: 0.4em;background-color: white;}#sk-container-id-5 div.sk-label label {font-family: monospace;font-weight: bold;display: inline-block;line-height: 1.2em;}#sk-container-id-5 div.sk-label-container {text-align: center;}#sk-container-id-5 div.sk-container {/* jupyter's `normalize.less` sets `[hidden] { display: none; }` but bootstrap.min.css set `[hidden] { display: none !important; }` so we also need the `!important` here to be able to override the default hidden behavior on the sphinx rendered scikit-learn.org. See: https://github.com/scikit-learn/scikit-learn/issues/21755 */display: inline-block !important;position: relative;}#sk-container-id-5 div.sk-text-repr-fallback {display: none;}</style><div id=\"sk-container-id-5\" class=\"sk-top-container\"><div class=\"sk-text-repr-fallback\"><pre>GaussianNB()</pre><b>In a Jupyter environment, please rerun this cell to show the HTML representation or trust the notebook. <br />On GitHub, the HTML representation is unable to render, please try loading this page with nbviewer.org.</b></div><div class=\"sk-container\" hidden><div class=\"sk-item\"><div class=\"sk-estimator sk-toggleable\"><input class=\"sk-toggleable__control sk-hidden--visually\" id=\"sk-estimator-id-5\" type=\"checkbox\" checked><label for=\"sk-estimator-id-5\" class=\"sk-toggleable__label sk-toggleable__label-arrow\">GaussianNB</label><div class=\"sk-toggleable__content\"><pre>GaussianNB()</pre></div></div></div></div></div>"
      ],
      "text/plain": [
       "GaussianNB()"
      ]
     },
     "execution_count": 30,
     "metadata": {},
     "output_type": "execute_result"
    }
   ],
   "source": [
    "nb_classifier = GaussianNB()\n",
    "nb_classifier.fit(x_train, y_train)"
   ]
  },
  {
   "cell_type": "code",
   "execution_count": 31,
   "metadata": {},
   "outputs": [
    {
     "name": "stdout",
     "output_type": "stream",
     "text": [
      "[[19  2]\n",
      " [ 2 17]]\n",
      "0.9\n"
     ]
    }
   ],
   "source": [
    "y_pred = nb_classifier.predict(x_test)\n",
    "cm = confusion_matrix(y_test, y_pred)\n",
    "print(cm)\n",
    "nb_acc = accuracy_score(y_test, y_pred)\n",
    "accuracy[\"Naive Bayes\"] = nb_acc\n",
    "print(nb_acc)"
   ]
  },
  {
   "cell_type": "markdown",
   "metadata": {},
   "source": [
    "# XGBoost"
   ]
  },
  {
   "cell_type": "code",
   "execution_count": 32,
   "metadata": {},
   "outputs": [
    {
     "data": {
      "text/html": [
       "<style>#sk-container-id-6 {color: black;background-color: white;}#sk-container-id-6 pre{padding: 0;}#sk-container-id-6 div.sk-toggleable {background-color: white;}#sk-container-id-6 label.sk-toggleable__label {cursor: pointer;display: block;width: 100%;margin-bottom: 0;padding: 0.3em;box-sizing: border-box;text-align: center;}#sk-container-id-6 label.sk-toggleable__label-arrow:before {content: \"▸\";float: left;margin-right: 0.25em;color: #696969;}#sk-container-id-6 label.sk-toggleable__label-arrow:hover:before {color: black;}#sk-container-id-6 div.sk-estimator:hover label.sk-toggleable__label-arrow:before {color: black;}#sk-container-id-6 div.sk-toggleable__content {max-height: 0;max-width: 0;overflow: hidden;text-align: left;background-color: #f0f8ff;}#sk-container-id-6 div.sk-toggleable__content pre {margin: 0.2em;color: black;border-radius: 0.25em;background-color: #f0f8ff;}#sk-container-id-6 input.sk-toggleable__control:checked~div.sk-toggleable__content {max-height: 200px;max-width: 100%;overflow: auto;}#sk-container-id-6 input.sk-toggleable__control:checked~label.sk-toggleable__label-arrow:before {content: \"▾\";}#sk-container-id-6 div.sk-estimator input.sk-toggleable__control:checked~label.sk-toggleable__label {background-color: #d4ebff;}#sk-container-id-6 div.sk-label input.sk-toggleable__control:checked~label.sk-toggleable__label {background-color: #d4ebff;}#sk-container-id-6 input.sk-hidden--visually {border: 0;clip: rect(1px 1px 1px 1px);clip: rect(1px, 1px, 1px, 1px);height: 1px;margin: -1px;overflow: hidden;padding: 0;position: absolute;width: 1px;}#sk-container-id-6 div.sk-estimator {font-family: monospace;background-color: #f0f8ff;border: 1px dotted black;border-radius: 0.25em;box-sizing: border-box;margin-bottom: 0.5em;}#sk-container-id-6 div.sk-estimator:hover {background-color: #d4ebff;}#sk-container-id-6 div.sk-parallel-item::after {content: \"\";width: 100%;border-bottom: 1px solid gray;flex-grow: 1;}#sk-container-id-6 div.sk-label:hover label.sk-toggleable__label {background-color: #d4ebff;}#sk-container-id-6 div.sk-serial::before {content: \"\";position: absolute;border-left: 1px solid gray;box-sizing: border-box;top: 0;bottom: 0;left: 50%;z-index: 0;}#sk-container-id-6 div.sk-serial {display: flex;flex-direction: column;align-items: center;background-color: white;padding-right: 0.2em;padding-left: 0.2em;position: relative;}#sk-container-id-6 div.sk-item {position: relative;z-index: 1;}#sk-container-id-6 div.sk-parallel {display: flex;align-items: stretch;justify-content: center;background-color: white;position: relative;}#sk-container-id-6 div.sk-item::before, #sk-container-id-6 div.sk-parallel-item::before {content: \"\";position: absolute;border-left: 1px solid gray;box-sizing: border-box;top: 0;bottom: 0;left: 50%;z-index: -1;}#sk-container-id-6 div.sk-parallel-item {display: flex;flex-direction: column;z-index: 1;position: relative;background-color: white;}#sk-container-id-6 div.sk-parallel-item:first-child::after {align-self: flex-end;width: 50%;}#sk-container-id-6 div.sk-parallel-item:last-child::after {align-self: flex-start;width: 50%;}#sk-container-id-6 div.sk-parallel-item:only-child::after {width: 0;}#sk-container-id-6 div.sk-dashed-wrapped {border: 1px dashed gray;margin: 0 0.4em 0.5em 0.4em;box-sizing: border-box;padding-bottom: 0.4em;background-color: white;}#sk-container-id-6 div.sk-label label {font-family: monospace;font-weight: bold;display: inline-block;line-height: 1.2em;}#sk-container-id-6 div.sk-label-container {text-align: center;}#sk-container-id-6 div.sk-container {/* jupyter's `normalize.less` sets `[hidden] { display: none; }` but bootstrap.min.css set `[hidden] { display: none !important; }` so we also need the `!important` here to be able to override the default hidden behavior on the sphinx rendered scikit-learn.org. See: https://github.com/scikit-learn/scikit-learn/issues/21755 */display: inline-block !important;position: relative;}#sk-container-id-6 div.sk-text-repr-fallback {display: none;}</style><div id=\"sk-container-id-6\" class=\"sk-top-container\"><div class=\"sk-text-repr-fallback\"><pre>XGBClassifier(base_score=0.5, booster=&#x27;gbtree&#x27;, callbacks=None,\n",
       "              colsample_bylevel=1, colsample_bynode=1, colsample_bytree=1,\n",
       "              early_stopping_rounds=None, enable_categorical=False,\n",
       "              eval_metric=None, feature_types=None, gamma=0, gpu_id=-1,\n",
       "              grow_policy=&#x27;depthwise&#x27;, importance_type=None,\n",
       "              interaction_constraints=&#x27;&#x27;, learning_rate=0.300000012,\n",
       "              max_bin=256, max_cat_threshold=64, max_cat_to_onehot=4,\n",
       "              max_delta_step=0, max_depth=6, max_leaves=0, min_child_weight=1,\n",
       "              missing=nan, monotone_constraints=&#x27;()&#x27;, n_estimators=100,\n",
       "              n_jobs=0, num_parallel_tree=1, predictor=&#x27;auto&#x27;, random_state=0, ...)</pre><b>In a Jupyter environment, please rerun this cell to show the HTML representation or trust the notebook. <br />On GitHub, the HTML representation is unable to render, please try loading this page with nbviewer.org.</b></div><div class=\"sk-container\" hidden><div class=\"sk-item\"><div class=\"sk-estimator sk-toggleable\"><input class=\"sk-toggleable__control sk-hidden--visually\" id=\"sk-estimator-id-6\" type=\"checkbox\" checked><label for=\"sk-estimator-id-6\" class=\"sk-toggleable__label sk-toggleable__label-arrow\">XGBClassifier</label><div class=\"sk-toggleable__content\"><pre>XGBClassifier(base_score=0.5, booster=&#x27;gbtree&#x27;, callbacks=None,\n",
       "              colsample_bylevel=1, colsample_bynode=1, colsample_bytree=1,\n",
       "              early_stopping_rounds=None, enable_categorical=False,\n",
       "              eval_metric=None, feature_types=None, gamma=0, gpu_id=-1,\n",
       "              grow_policy=&#x27;depthwise&#x27;, importance_type=None,\n",
       "              interaction_constraints=&#x27;&#x27;, learning_rate=0.300000012,\n",
       "              max_bin=256, max_cat_threshold=64, max_cat_to_onehot=4,\n",
       "              max_delta_step=0, max_depth=6, max_leaves=0, min_child_weight=1,\n",
       "              missing=nan, monotone_constraints=&#x27;()&#x27;, n_estimators=100,\n",
       "              n_jobs=0, num_parallel_tree=1, predictor=&#x27;auto&#x27;, random_state=0, ...)</pre></div></div></div></div></div>"
      ],
      "text/plain": [
       "XGBClassifier(base_score=0.5, booster='gbtree', callbacks=None,\n",
       "              colsample_bylevel=1, colsample_bynode=1, colsample_bytree=1,\n",
       "              early_stopping_rounds=None, enable_categorical=False,\n",
       "              eval_metric=None, feature_types=None, gamma=0, gpu_id=-1,\n",
       "              grow_policy='depthwise', importance_type=None,\n",
       "              interaction_constraints='', learning_rate=0.300000012,\n",
       "              max_bin=256, max_cat_threshold=64, max_cat_to_onehot=4,\n",
       "              max_delta_step=0, max_depth=6, max_leaves=0, min_child_weight=1,\n",
       "              missing=nan, monotone_constraints='()', n_estimators=100,\n",
       "              n_jobs=0, num_parallel_tree=1, predictor='auto', random_state=0, ...)"
      ]
     },
     "execution_count": 32,
     "metadata": {},
     "output_type": "execute_result"
    }
   ],
   "source": [
    "xgb_classifier = XGBClassifier()\n",
    "xgb_classifier.fit(x_train, y_train)"
   ]
  },
  {
   "cell_type": "code",
   "execution_count": 33,
   "metadata": {},
   "outputs": [
    {
     "name": "stdout",
     "output_type": "stream",
     "text": [
      "[[17  4]\n",
      " [ 2 17]]\n",
      "0.85\n"
     ]
    }
   ],
   "source": [
    "y_pred = xgb_classifier.predict(x_test)\n",
    "cm = confusion_matrix(y_test, y_pred)\n",
    "print(cm)\n",
    "xgb_acc = accuracy_score(y_test, y_pred)\n",
    "accuracy[\"XGB\"] = xgb_acc\n",
    "print(xgb_acc)"
   ]
  },
  {
   "cell_type": "markdown",
   "metadata": {},
   "source": [
    "# Evaluation"
   ]
  },
  {
   "cell_type": "code",
   "execution_count": 34,
   "metadata": {},
   "outputs": [
    {
     "data": {
      "text/html": [
       "<div>\n",
       "<style scoped>\n",
       "    .dataframe tbody tr th:only-of-type {\n",
       "        vertical-align: middle;\n",
       "    }\n",
       "\n",
       "    .dataframe tbody tr th {\n",
       "        vertical-align: top;\n",
       "    }\n",
       "\n",
       "    .dataframe thead th {\n",
       "        text-align: right;\n",
       "    }\n",
       "</style>\n",
       "<table border=\"1\" class=\"dataframe\">\n",
       "  <thead>\n",
       "    <tr style=\"text-align: right;\">\n",
       "      <th></th>\n",
       "      <th>Models</th>\n",
       "      <th>Accuracy</th>\n",
       "    </tr>\n",
       "  </thead>\n",
       "  <tbody>\n",
       "    <tr>\n",
       "      <th>0</th>\n",
       "      <td>Random Forest</td>\n",
       "      <td>0.900</td>\n",
       "    </tr>\n",
       "    <tr>\n",
       "      <th>1</th>\n",
       "      <td>SVM</td>\n",
       "      <td>0.925</td>\n",
       "    </tr>\n",
       "    <tr>\n",
       "      <th>2</th>\n",
       "      <td>KNN</td>\n",
       "      <td>0.975</td>\n",
       "    </tr>\n",
       "    <tr>\n",
       "      <th>3</th>\n",
       "      <td>Decision Tree</td>\n",
       "      <td>0.875</td>\n",
       "    </tr>\n",
       "    <tr>\n",
       "      <th>4</th>\n",
       "      <td>Logistic Regression</td>\n",
       "      <td>0.925</td>\n",
       "    </tr>\n",
       "    <tr>\n",
       "      <th>5</th>\n",
       "      <td>Naive Bayes</td>\n",
       "      <td>0.900</td>\n",
       "    </tr>\n",
       "    <tr>\n",
       "      <th>6</th>\n",
       "      <td>XGB</td>\n",
       "      <td>0.850</td>\n",
       "    </tr>\n",
       "  </tbody>\n",
       "</table>\n",
       "</div>"
      ],
      "text/plain": [
       "                Models  Accuracy\n",
       "0        Random Forest     0.900\n",
       "1                  SVM     0.925\n",
       "2                  KNN     0.975\n",
       "3        Decision Tree     0.875\n",
       "4  Logistic Regression     0.925\n",
       "5          Naive Bayes     0.900\n",
       "6                  XGB     0.850"
      ]
     },
     "execution_count": 34,
     "metadata": {},
     "output_type": "execute_result"
    }
   ],
   "source": [
    "\n",
    "all_accuracy = pd.DataFrame(list(accuracy.items()), columns = ['Models', 'Accuracy'])\n",
    "all_accuracy"
   ]
  },
  {
   "cell_type": "code",
   "execution_count": 50,
   "metadata": {},
   "outputs": [
    {
     "data": {
      "text/plain": [
       "<AxesSubplot:>"
      ]
     },
     "execution_count": 50,
     "metadata": {},
     "output_type": "execute_result"
    },
    {
     "data": {
      "image/png": "[encoded data removed]",
      "text/plain": [
       "<Figure size 1200x700 with 1 Axes>"
      ]
     },
     "metadata": {},
     "output_type": "display_data"
    }
   ],
   "source": [
    "plt.figure(figsize=(12, 7))\n",
    "sns.barplot(x = list(all_accuracy.Models), y = list(all_accuracy.Accuracy))"
   ]
  },
  {
   "cell_type": "code",
   "execution_count": 146,
   "metadata": {},
   "outputs": [],
   "source": [
    "y_score1 = knn_classifier.predict_proba(x_test)[:,1]\n",
    "# y_score2 = clf_reg.predict_proba(X_test)[:,1]\n",
    "false_positive_rate1, true_positive_rate1, threshold1 = metrics.roc_curve(y_test, y_score1)"
   ]
  },
  {
   "cell_type": "code",
   "execution_count": 147,
   "metadata": {},
   "outputs": [
    {
     "name": "stdout",
     "output_type": "stream",
     "text": [
      "roc_auc_score for DecisionTree:  0.9874686716791979\n"
     ]
    }
   ],
   "source": [
    "print('roc_auc_score for DecisionTree: ', roc_auc_score(y_test, y_score1))"
   ]
  },
  {
   "cell_type": "markdown",
   "metadata": {},
   "source": [
    "# Saving Model"
   ]
  },
  {
   "cell_type": "code",
   "execution_count": 210,
   "metadata": {},
   "outputs": [
    {
     "data": {
      "text/plain": [
       "['model.pkl']"
      ]
     },
     "execution_count": 210,
     "metadata": {},
     "output_type": "execute_result"
    }
   ],
   "source": [
    "import joblib\n",
    "joblib.dump(knn_classifier, 'model.pkl')"
   ]
  }
 ],
 "metadata": {
  "kernelspec": {
   "display_name": "Python 3.10.5 64-bit",
   "language": "python",
   "name": "python3"
  },
  "language_info": {
   "codemirror_mode": {
    "name": "ipython",
    "version": 3
   },
   "file_extension": ".py",
   "mimetype": "text/x-python",
   "name": "python",
   "nbconvert_exporter": "python",
   "pygments_lexer": "ipython3",
   "version": "3.10.5"
  },
  "orig_nbformat": 4,
  "vscode": {
   "interpreter": {
    "hash": "48c0456b47fd28663b6321c31fd118003797d3d14c36bf39a7410dc7c03f13d3"
   }
  }
 },
 "nbformat": 4,
 "nbformat_minor": 2
}
