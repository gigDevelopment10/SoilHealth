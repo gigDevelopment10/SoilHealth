{
 "cells": [
  {
   "cell_type": "code",
   "execution_count": null,
   "metadata": {},
   "outputs": [],
   "source": []
  }
 ],
 "metadata": {
  "kernelspec": {
   "display_name": "Python 3.10.5 64-bit",
   "language": "python",
   "name": "python3"
  },
  "language_info": {
   "name": "python",
   "version": "3.10.5"
  },
  "orig_nbformat": 4,
  "vscode": {
   "interpreter": {
    "hash": "48c0456b47fd28663b6321c31fd118003797d3d14c36bf39a7410dc7c03f13d3"
   }
  }
 },
 "nbformat": 4,
 "nbformat_minor": 2
}
